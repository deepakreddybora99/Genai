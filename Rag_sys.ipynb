{
 "cells": [
  {
   "cell_type": "code",
   "execution_count": 1,
   "metadata": {},
   "outputs": [
    {
     "name": "stdout",
     "output_type": "stream",
     "text": [
      "Collecting pypdf\n",
      "  Downloading pypdf-4.2.0-py3-none-any.whl (290 kB)\n",
      "Requirement already satisfied: typing_extensions>=4.0 in c:\\users\\hp\\desktop\\internship\\genai\\.env_genai\\lib\\site-packages (from pypdf) (4.11.0)\n",
      "Installing collected packages: pypdf\n",
      "Successfully installed pypdf-4.2.0\n",
      "Note: you may need to restart the kernel to use updated packages.\n"
     ]
    },
    {
     "name": "stderr",
     "output_type": "stream",
     "text": [
      "WARNING: You are using pip version 21.2.4; however, version 24.0 is available.\n",
      "You should consider upgrading via the 'c:\\Users\\hp\\Desktop\\internship\\genai\\.env_genai\\Scripts\\python.exe -m pip install --upgrade pip' command.\n"
     ]
    }
   ],
   "source": [
    "pip install pypdf"
   ]
  },
  {
   "cell_type": "code",
   "execution_count": 2,
   "metadata": {},
   "outputs": [
    {
     "name": "stdout",
     "output_type": "stream",
     "text": [
      "Collecting langchain_community\n",
      "  Downloading langchain_community-0.0.34-py3-none-any.whl (1.9 MB)\n",
      "Collecting langchain-core<0.2.0,>=0.1.45\n",
      "  Downloading langchain_core-0.1.45-py3-none-any.whl (291 kB)\n",
      "Collecting langsmith<0.2.0,>=0.1.0\n",
      "  Downloading langsmith-0.1.50-py3-none-any.whl (115 kB)\n",
      "Requirement already satisfied: requests<3,>=2 in c:\\users\\hp\\desktop\\internship\\genai\\.env_genai\\lib\\site-packages (from langchain_community) (2.31.0)\n",
      "Collecting dataclasses-json<0.7,>=0.5.7\n",
      "  Downloading dataclasses_json-0.6.4-py3-none-any.whl (28 kB)\n",
      "Collecting SQLAlchemy<3,>=1.4\n",
      "  Using cached SQLAlchemy-2.0.29-cp310-cp310-win_amd64.whl (2.1 MB)\n",
      "Collecting PyYAML>=5.3\n",
      "  Using cached PyYAML-6.0.1-cp310-cp310-win_amd64.whl (145 kB)\n",
      "Collecting aiohttp<4.0.0,>=3.8.3\n",
      "  Downloading aiohttp-3.9.5-cp310-cp310-win_amd64.whl (370 kB)\n",
      "Requirement already satisfied: tenacity<9.0.0,>=8.1.0 in c:\\users\\hp\\desktop\\internship\\genai\\.env_genai\\lib\\site-packages (from langchain_community) (8.2.3)\n",
      "Requirement already satisfied: numpy<2,>=1 in c:\\users\\hp\\desktop\\internship\\genai\\.env_genai\\lib\\site-packages (from langchain_community) (1.26.4)\n",
      "Requirement already satisfied: attrs>=17.3.0 in c:\\users\\hp\\desktop\\internship\\genai\\.env_genai\\lib\\site-packages (from aiohttp<4.0.0,>=3.8.3->langchain_community) (23.2.0)\n",
      "Collecting multidict<7.0,>=4.5\n",
      "  Using cached multidict-6.0.5-cp310-cp310-win_amd64.whl (28 kB)\n",
      "Collecting aiosignal>=1.1.2\n",
      "  Using cached aiosignal-1.3.1-py3-none-any.whl (7.6 kB)\n",
      "Collecting async-timeout<5.0,>=4.0\n",
      "  Using cached async_timeout-4.0.3-py3-none-any.whl (5.7 kB)\n",
      "Collecting frozenlist>=1.1.1\n",
      "  Using cached frozenlist-1.4.1-cp310-cp310-win_amd64.whl (50 kB)\n",
      "Collecting yarl<2.0,>=1.0\n",
      "  Using cached yarl-1.9.4-cp310-cp310-win_amd64.whl (76 kB)\n",
      "Collecting marshmallow<4.0.0,>=3.18.0\n",
      "  Downloading marshmallow-3.21.1-py3-none-any.whl (49 kB)\n",
      "Collecting typing-inspect<1,>=0.4.0\n",
      "  Downloading typing_inspect-0.9.0-py3-none-any.whl (8.8 kB)\n",
      "Collecting jsonpatch<2.0,>=1.33\n",
      "  Using cached jsonpatch-1.33-py2.py3-none-any.whl (12 kB)\n",
      "Requirement already satisfied: pydantic<3,>=1 in c:\\users\\hp\\desktop\\internship\\genai\\.env_genai\\lib\\site-packages (from langchain-core<0.2.0,>=0.1.45->langchain_community) (2.7.1)\n",
      "Collecting packaging<24.0,>=23.2\n",
      "  Using cached packaging-23.2-py3-none-any.whl (53 kB)\n",
      "Collecting jsonpointer>=1.9\n",
      "  Using cached jsonpointer-2.4-py2.py3-none-any.whl (7.8 kB)\n",
      "Collecting orjson<4.0.0,>=3.9.14\n",
      "  Using cached orjson-3.10.1-cp310-none-win_amd64.whl (139 kB)\n",
      "Requirement already satisfied: annotated-types>=0.4.0 in c:\\users\\hp\\desktop\\internship\\genai\\.env_genai\\lib\\site-packages (from pydantic<3,>=1->langchain-core<0.2.0,>=0.1.45->langchain_community) (0.6.0)\n",
      "Requirement already satisfied: typing-extensions>=4.6.1 in c:\\users\\hp\\desktop\\internship\\genai\\.env_genai\\lib\\site-packages (from pydantic<3,>=1->langchain-core<0.2.0,>=0.1.45->langchain_community) (4.11.0)\n",
      "Requirement already satisfied: pydantic-core==2.18.2 in c:\\users\\hp\\desktop\\internship\\genai\\.env_genai\\lib\\site-packages (from pydantic<3,>=1->langchain-core<0.2.0,>=0.1.45->langchain_community) (2.18.2)\n",
      "Requirement already satisfied: certifi>=2017.4.17 in c:\\users\\hp\\desktop\\internship\\genai\\.env_genai\\lib\\site-packages (from requests<3,>=2->langchain_community) (2024.2.2)\n",
      "Requirement already satisfied: urllib3<3,>=1.21.1 in c:\\users\\hp\\desktop\\internship\\genai\\.env_genai\\lib\\site-packages (from requests<3,>=2->langchain_community) (2.2.1)\n",
      "Requirement already satisfied: charset-normalizer<4,>=2 in c:\\users\\hp\\desktop\\internship\\genai\\.env_genai\\lib\\site-packages (from requests<3,>=2->langchain_community) (3.3.2)\n",
      "Requirement already satisfied: idna<4,>=2.5 in c:\\users\\hp\\desktop\\internship\\genai\\.env_genai\\lib\\site-packages (from requests<3,>=2->langchain_community) (3.7)\n",
      "Collecting greenlet!=0.4.17\n",
      "  Using cached greenlet-3.0.3-cp310-cp310-win_amd64.whl (292 kB)\n",
      "Collecting mypy-extensions>=0.3.0\n",
      "  Downloading mypy_extensions-1.0.0-py3-none-any.whl (4.7 kB)\n",
      "Installing collected packages: packaging, orjson, mypy-extensions, multidict, jsonpointer, frozenlist, yarl, typing-inspect, PyYAML, marshmallow, langsmith, jsonpatch, greenlet, async-timeout, aiosignal, SQLAlchemy, langchain-core, dataclasses-json, aiohttp, langchain-community\n",
      "  Attempting uninstall: packaging\n",
      "    Found existing installation: packaging 24.0\n",
      "    Uninstalling packaging-24.0:\n",
      "      Successfully uninstalled packaging-24.0\n",
      "Successfully installed PyYAML-6.0.1 SQLAlchemy-2.0.29 aiohttp-3.9.5 aiosignal-1.3.1 async-timeout-4.0.3 dataclasses-json-0.6.4 frozenlist-1.4.1 greenlet-3.0.3 jsonpatch-1.33 jsonpointer-2.4 langchain-community-0.0.34 langchain-core-0.1.45 langsmith-0.1.50 marshmallow-3.21.1 multidict-6.0.5 mypy-extensions-1.0.0 orjson-3.10.1 packaging-23.2 typing-inspect-0.9.0 yarl-1.9.4\n",
      "Note: you may need to restart the kernel to use updated packages.\n"
     ]
    },
    {
     "name": "stderr",
     "output_type": "stream",
     "text": [
      "WARNING: You are using pip version 21.2.4; however, version 24.0 is available.\n",
      "You should consider upgrading via the 'c:\\Users\\hp\\Desktop\\internship\\genai\\.env_genai\\Scripts\\python.exe -m pip install --upgrade pip' command.\n"
     ]
    }
   ],
   "source": [
    "pip install langchain_community"
   ]
  },
  {
   "cell_type": "code",
   "execution_count": 3,
   "metadata": {},
   "outputs": [],
   "source": [
    "from langchain_community.document_loaders import PyPDFLoader"
   ]
  },
  {
   "cell_type": "code",
   "execution_count": 4,
   "metadata": {},
   "outputs": [
    {
     "name": "stdout",
     "output_type": "stream",
     "text": [
      "Collecting langchain-text-splitters\n",
      "  Downloading langchain_text_splitters-0.0.1-py3-none-any.whl (21 kB)\n",
      "Requirement already satisfied: langchain-core<0.2.0,>=0.1.28 in c:\\users\\hp\\desktop\\internship\\genai\\.env_genai\\lib\\site-packages (from langchain-text-splitters) (0.1.45)\n",
      "Requirement already satisfied: langsmith<0.2.0,>=0.1.0 in c:\\users\\hp\\desktop\\internship\\genai\\.env_genai\\lib\\site-packages (from langchain-core<0.2.0,>=0.1.28->langchain-text-splitters) (0.1.50)\n",
      "Requirement already satisfied: packaging<24.0,>=23.2 in c:\\users\\hp\\desktop\\internship\\genai\\.env_genai\\lib\\site-packages (from langchain-core<0.2.0,>=0.1.28->langchain-text-splitters) (23.2)\n",
      "Requirement already satisfied: PyYAML>=5.3 in c:\\users\\hp\\desktop\\internship\\genai\\.env_genai\\lib\\site-packages (from langchain-core<0.2.0,>=0.1.28->langchain-text-splitters) (6.0.1)\n",
      "Requirement already satisfied: tenacity<9.0.0,>=8.1.0 in c:\\users\\hp\\desktop\\internship\\genai\\.env_genai\\lib\\site-packages (from langchain-core<0.2.0,>=0.1.28->langchain-text-splitters) (8.2.3)\n",
      "Requirement already satisfied: pydantic<3,>=1 in c:\\users\\hp\\desktop\\internship\\genai\\.env_genai\\lib\\site-packages (from langchain-core<0.2.0,>=0.1.28->langchain-text-splitters) (2.7.1)\n",
      "Requirement already satisfied: jsonpatch<2.0,>=1.33 in c:\\users\\hp\\desktop\\internship\\genai\\.env_genai\\lib\\site-packages (from langchain-core<0.2.0,>=0.1.28->langchain-text-splitters) (1.33)\n",
      "Requirement already satisfied: jsonpointer>=1.9 in c:\\users\\hp\\desktop\\internship\\genai\\.env_genai\\lib\\site-packages (from jsonpatch<2.0,>=1.33->langchain-core<0.2.0,>=0.1.28->langchain-text-splitters) (2.4)\n",
      "Requirement already satisfied: orjson<4.0.0,>=3.9.14 in c:\\users\\hp\\desktop\\internship\\genai\\.env_genai\\lib\\site-packages (from langsmith<0.2.0,>=0.1.0->langchain-core<0.2.0,>=0.1.28->langchain-text-splitters) (3.10.1)\n",
      "Requirement already satisfied: requests<3,>=2 in c:\\users\\hp\\desktop\\internship\\genai\\.env_genai\\lib\\site-packages (from langsmith<0.2.0,>=0.1.0->langchain-core<0.2.0,>=0.1.28->langchain-text-splitters) (2.31.0)\n",
      "Requirement already satisfied: annotated-types>=0.4.0 in c:\\users\\hp\\desktop\\internship\\genai\\.env_genai\\lib\\site-packages (from pydantic<3,>=1->langchain-core<0.2.0,>=0.1.28->langchain-text-splitters) (0.6.0)\n",
      "Requirement already satisfied: typing-extensions>=4.6.1 in c:\\users\\hp\\desktop\\internship\\genai\\.env_genai\\lib\\site-packages (from pydantic<3,>=1->langchain-core<0.2.0,>=0.1.28->langchain-text-splitters) (4.11.0)\n",
      "Requirement already satisfied: pydantic-core==2.18.2 in c:\\users\\hp\\desktop\\internship\\genai\\.env_genai\\lib\\site-packages (from pydantic<3,>=1->langchain-core<0.2.0,>=0.1.28->langchain-text-splitters) (2.18.2)\n",
      "Requirement already satisfied: idna<4,>=2.5 in c:\\users\\hp\\desktop\\internship\\genai\\.env_genai\\lib\\site-packages (from requests<3,>=2->langsmith<0.2.0,>=0.1.0->langchain-core<0.2.0,>=0.1.28->langchain-text-splitters) (3.7)\n",
      "Requirement already satisfied: certifi>=2017.4.17 in c:\\users\\hp\\desktop\\internship\\genai\\.env_genai\\lib\\site-packages (from requests<3,>=2->langsmith<0.2.0,>=0.1.0->langchain-core<0.2.0,>=0.1.28->langchain-text-splitters) (2024.2.2)\n",
      "Requirement already satisfied: charset-normalizer<4,>=2 in c:\\users\\hp\\desktop\\internship\\genai\\.env_genai\\lib\\site-packages (from requests<3,>=2->langsmith<0.2.0,>=0.1.0->langchain-core<0.2.0,>=0.1.28->langchain-text-splitters) (3.3.2)\n",
      "Requirement already satisfied: urllib3<3,>=1.21.1 in c:\\users\\hp\\desktop\\internship\\genai\\.env_genai\\lib\\site-packages (from requests<3,>=2->langsmith<0.2.0,>=0.1.0->langchain-core<0.2.0,>=0.1.28->langchain-text-splitters) (2.2.1)\n",
      "Installing collected packages: langchain-text-splitters\n",
      "Successfully installed langchain-text-splitters-0.0.1\n",
      "Note: you may need to restart the kernel to use updated packages.\n"
     ]
    },
    {
     "name": "stderr",
     "output_type": "stream",
     "text": [
      "WARNING: You are using pip version 21.2.4; however, version 24.0 is available.\n",
      "You should consider upgrading via the 'c:\\Users\\hp\\Desktop\\internship\\genai\\.env_genai\\Scripts\\python.exe -m pip install --upgrade pip' command.\n"
     ]
    }
   ],
   "source": [
    "pip install -U langchain-text-splitters"
   ]
  },
  {
   "cell_type": "code",
   "execution_count": 5,
   "metadata": {},
   "outputs": [],
   "source": [
    "loader=PyPDFLoader(r\"C:\\Users\\hp\\Desktop\\internship\\genai\\Rag_systems\\2404.07143.pdf\")\n",
    "pages=loader.load_and_split()"
   ]
  },
  {
   "cell_type": "code",
   "execution_count": 7,
   "metadata": {},
   "outputs": [
    {
     "name": "stderr",
     "output_type": "stream",
     "text": [
      "Created a chunk of size 568, which is longer than the specified 500\n",
      "Created a chunk of size 506, which is longer than the specified 500\n",
      "Created a chunk of size 633, which is longer than the specified 500\n"
     ]
    },
    {
     "name": "stdout",
     "output_type": "stream",
     "text": [
      "110\n",
      "<class 'langchain_core.documents.base.Document'>\n"
     ]
    }
   ],
   "source": [
    "from langchain_text_splitters import NLTKTextSplitter\n",
    "\n",
    "text_splitter = NLTKTextSplitter(chunk_size=500,chunk_overlap=100)\n",
    "\n",
    "chunks=text_splitter.split_documents(pages)\n",
    "\n",
    "print(len(chunks))\n",
    "\n",
    "print(type(chunks[0]))"
   ]
  },
  {
   "cell_type": "code",
   "execution_count": 8,
   "metadata": {},
   "outputs": [
    {
     "data": {
      "text/plain": [
       "Document(page_content='Preprint.\\n\\nUnder review.\\n\\nLeave No Context Behind:\\nEfficient Infinite Context Transformers with Infini-attention\\nTsendsuren Munkhdalai, Manaal Faruqui and Siddharth Gopal\\nGoogle\\ntsendsuren@google.com\\nAbstract\\nThis work introduces an efficient method to scale Transformer-based Large\\nLanguage Models (LLMs) to infinitely long inputs with bounded memory\\nand computation.\\n\\nA key component in our proposed approach is a new at-\\ntention technique dubbed Infini-attention.', metadata={'source': 'C:\\\\Users\\\\hp\\\\Desktop\\\\internship\\\\genai\\\\Rag_systems\\\\2404.07143.pdf', 'page': 0})"
      ]
     },
     "execution_count": 8,
     "metadata": {},
     "output_type": "execute_result"
    }
   ],
   "source": [
    "chunks[0]"
   ]
  },
  {
   "cell_type": "code",
   "execution_count": 9,
   "metadata": {},
   "outputs": [
    {
     "name": "stdout",
     "output_type": "stream",
     "text": [
      "Collecting langchain-google-genaiNote: you may need to restart the kernel to use updated packages.\n",
      "\n",
      "  Downloading langchain_google_genai-1.0.2-py3-none-any.whl (28 kB)\n",
      "Requirement already satisfied: langchain-core<0.2,>=0.1.27 in c:\\users\\hp\\desktop\\internship\\genai\\.env_genai\\lib\\site-packages (from langchain-google-genai) (0.1.45)\n",
      "Requirement already satisfied: google-generativeai<0.6.0,>=0.5.0 in c:\\users\\hp\\desktop\\internship\\genai\\.env_genai\\lib\\site-packages (from langchain-google-genai) (0.5.2)\n",
      "Requirement already satisfied: typing-extensions in c:\\users\\hp\\desktop\\internship\\genai\\.env_genai\\lib\\site-packages (from google-generativeai<0.6.0,>=0.5.0->langchain-google-genai) (4.11.0)\n",
      "Requirement already satisfied: google-api-core in c:\\users\\hp\\desktop\\internship\\genai\\.env_genai\\lib\\site-packages (from google-generativeai<0.6.0,>=0.5.0->langchain-google-genai) (2.18.0)\n",
      "Requirement already satisfied: google-ai-generativelanguage==0.6.2 in c:\\users\\hp\\desktop\\internship\\genai\\.env_genai\\lib\\site-packages (from google-generativeai<0.6.0,>=0.5.0->langchain-google-genai) (0.6.2)\n",
      "Requirement already satisfied: google-auth>=2.15.0 in c:\\users\\hp\\desktop\\internship\\genai\\.env_genai\\lib\\site-packages (from google-generativeai<0.6.0,>=0.5.0->langchain-google-genai) (2.29.0)\n",
      "Requirement already satisfied: tqdm in c:\\users\\hp\\desktop\\internship\\genai\\.env_genai\\lib\\site-packages (from google-generativeai<0.6.0,>=0.5.0->langchain-google-genai) (4.66.2)\n",
      "Requirement already satisfied: google-api-python-client in c:\\users\\hp\\desktop\\internship\\genai\\.env_genai\\lib\\site-packages (from google-generativeai<0.6.0,>=0.5.0->langchain-google-genai) (2.127.0)\n",
      "Requirement already satisfied: protobuf in c:\\users\\hp\\desktop\\internship\\genai\\.env_genai\\lib\\site-packages (from google-generativeai<0.6.0,>=0.5.0->langchain-google-genai) (4.25.3)\n",
      "Requirement already satisfied: pydantic in c:\\users\\hp\\desktop\\internship\\genai\\.env_genai\\lib\\site-packages (from google-generativeai<0.6.0,>=0.5.0->langchain-google-genai) (2.7.1)\n",
      "Requirement already satisfied: proto-plus<2.0.0dev,>=1.22.3 in c:\\users\\hp\\desktop\\internship\\genai\\.env_genai\\lib\\site-packages (from google-ai-generativelanguage==0.6.2->google-generativeai<0.6.0,>=0.5.0->langchain-google-genai) (1.23.0)\n",
      "Requirement already satisfied: googleapis-common-protos<2.0.dev0,>=1.56.2 in c:\\users\\hp\\desktop\\internship\\genai\\.env_genai\\lib\\site-packages (from google-api-core->google-generativeai<0.6.0,>=0.5.0->langchain-google-genai) (1.63.0)\n",
      "Requirement already satisfied: requests<3.0.0.dev0,>=2.18.0 in c:\\users\\hp\\desktop\\internship\\genai\\.env_genai\\lib\\site-packages (from google-api-core->google-generativeai<0.6.0,>=0.5.0->langchain-google-genai) (2.31.0)\n",
      "Requirement already satisfied: grpcio<2.0dev,>=1.33.2 in c:\\users\\hp\\desktop\\internship\\genai\\.env_genai\\lib\\site-packages (from google-api-core->google-generativeai<0.6.0,>=0.5.0->langchain-google-genai) (1.62.2)\n",
      "Requirement already satisfied: grpcio-status<2.0.dev0,>=1.33.2 in c:\\users\\hp\\desktop\\internship\\genai\\.env_genai\\lib\\site-packages (from google-api-core->google-generativeai<0.6.0,>=0.5.0->langchain-google-genai) (1.62.2)\n",
      "Requirement already satisfied: rsa<5,>=3.1.4 in c:\\users\\hp\\desktop\\internship\\genai\\.env_genai\\lib\\site-packages (from google-auth>=2.15.0->google-generativeai<0.6.0,>=0.5.0->langchain-google-genai) (4.9)\n",
      "Requirement already satisfied: pyasn1-modules>=0.2.1 in c:\\users\\hp\\desktop\\internship\\genai\\.env_genai\\lib\\site-packages (from google-auth>=2.15.0->google-generativeai<0.6.0,>=0.5.0->langchain-google-genai) (0.4.0)\n",
      "Requirement already satisfied: cachetools<6.0,>=2.0.0 in c:\\users\\hp\\desktop\\internship\\genai\\.env_genai\\lib\\site-packages (from google-auth>=2.15.0->google-generativeai<0.6.0,>=0.5.0->langchain-google-genai) (5.3.3)\n",
      "Requirement already satisfied: packaging<24.0,>=23.2 in c:\\users\\hp\\desktop\\internship\\genai\\.env_genai\\lib\\site-packages (from langchain-core<0.2,>=0.1.27->langchain-google-genai) (23.2)\n",
      "Requirement already satisfied: tenacity<9.0.0,>=8.1.0 in c:\\users\\hp\\desktop\\internship\\genai\\.env_genai\\lib\\site-packages (from langchain-core<0.2,>=0.1.27->langchain-google-genai) (8.2.3)\n",
      "Requirement already satisfied: jsonpatch<2.0,>=1.33 in c:\\users\\hp\\desktop\\internship\\genai\\.env_genai\\lib\\site-packages (from langchain-core<0.2,>=0.1.27->langchain-google-genai) (1.33)\n",
      "Requirement already satisfied: langsmith<0.2.0,>=0.1.0 in c:\\users\\hp\\desktop\\internship\\genai\\.env_genai\\lib\\site-packages (from langchain-core<0.2,>=0.1.27->langchain-google-genai) (0.1.50)\n",
      "Requirement already satisfied: PyYAML>=5.3 in c:\\users\\hp\\desktop\\internship\\genai\\.env_genai\\lib\\site-packages (from langchain-core<0.2,>=0.1.27->langchain-google-genai) (6.0.1)\n",
      "Requirement already satisfied: jsonpointer>=1.9 in c:\\users\\hp\\desktop\\internship\\genai\\.env_genai\\lib\\site-packages (from jsonpatch<2.0,>=1.33->langchain-core<0.2,>=0.1.27->langchain-google-genai) (2.4)\n",
      "Requirement already satisfied: orjson<4.0.0,>=3.9.14 in c:\\users\\hp\\desktop\\internship\\genai\\.env_genai\\lib\\site-packages (from langsmith<0.2.0,>=0.1.0->langchain-core<0.2,>=0.1.27->langchain-google-genai) (3.10.1)\n",
      "Requirement already satisfied: pyasn1<0.7.0,>=0.4.6 in c:\\users\\hp\\desktop\\internship\\genai\\.env_genai\\lib\\site-packages (from pyasn1-modules>=0.2.1->google-auth>=2.15.0->google-generativeai<0.6.0,>=0.5.0->langchain-google-genai) (0.6.0)\n",
      "Requirement already satisfied: annotated-types>=0.4.0 in c:\\users\\hp\\desktop\\internship\\genai\\.env_genai\\lib\\site-packages (from pydantic->google-generativeai<0.6.0,>=0.5.0->langchain-google-genai) (0.6.0)\n",
      "Requirement already satisfied: pydantic-core==2.18.2 in c:\\users\\hp\\desktop\\internship\\genai\\.env_genai\\lib\\site-packages (from pydantic->google-generativeai<0.6.0,>=0.5.0->langchain-google-genai) (2.18.2)\n",
      "Requirement already satisfied: urllib3<3,>=1.21.1 in c:\\users\\hp\\desktop\\internship\\genai\\.env_genai\\lib\\site-packages (from requests<3.0.0.dev0,>=2.18.0->google-api-core->google-generativeai<0.6.0,>=0.5.0->langchain-google-genai) (2.2.1)\n",
      "Requirement already satisfied: idna<4,>=2.5 in c:\\users\\hp\\desktop\\internship\\genai\\.env_genai\\lib\\site-packages (from requests<3.0.0.dev0,>=2.18.0->google-api-core->google-generativeai<0.6.0,>=0.5.0->langchain-google-genai) (3.7)\n",
      "Requirement already satisfied: certifi>=2017.4.17 in c:\\users\\hp\\desktop\\internship\\genai\\.env_genai\\lib\\site-packages (from requests<3.0.0.dev0,>=2.18.0->google-api-core->google-generativeai<0.6.0,>=0.5.0->langchain-google-genai) (2024.2.2)\n",
      "Requirement already satisfied: charset-normalizer<4,>=2 in c:\\users\\hp\\desktop\\internship\\genai\\.env_genai\\lib\\site-packages (from requests<3.0.0.dev0,>=2.18.0->google-api-core->google-generativeai<0.6.0,>=0.5.0->langchain-google-genai) (3.3.2)\n",
      "Requirement already satisfied: google-auth-httplib2<1.0.0,>=0.2.0 in c:\\users\\hp\\desktop\\internship\\genai\\.env_genai\\lib\\site-packages (from google-api-python-client->google-generativeai<0.6.0,>=0.5.0->langchain-google-genai) (0.2.0)\n",
      "Requirement already satisfied: uritemplate<5,>=3.0.1 in c:\\users\\hp\\desktop\\internship\\genai\\.env_genai\\lib\\site-packages (from google-api-python-client->google-generativeai<0.6.0,>=0.5.0->langchain-google-genai) (4.1.1)\n",
      "Requirement already satisfied: httplib2<1.dev0,>=0.19.0 in c:\\users\\hp\\desktop\\internship\\genai\\.env_genai\\lib\\site-packages (from google-api-python-client->google-generativeai<0.6.0,>=0.5.0->langchain-google-genai) (0.22.0)\n",
      "Requirement already satisfied: pyparsing!=3.0.0,!=3.0.1,!=3.0.2,!=3.0.3,<4,>=2.4.2 in c:\\users\\hp\\desktop\\internship\\genai\\.env_genai\\lib\\site-packages (from httplib2<1.dev0,>=0.19.0->google-api-python-client->google-generativeai<0.6.0,>=0.5.0->langchain-google-genai) (3.1.2)\n",
      "Requirement already satisfied: colorama in c:\\users\\hp\\desktop\\internship\\genai\\.env_genai\\lib\\site-packages (from tqdm->google-generativeai<0.6.0,>=0.5.0->langchain-google-genai) (0.4.6)\n",
      "Installing collected packages: langchain-google-genai\n",
      "Successfully installed langchain-google-genai-1.0.2\n"
     ]
    },
    {
     "name": "stderr",
     "output_type": "stream",
     "text": [
      "WARNING: You are using pip version 21.2.4; however, version 24.0 is available.\n",
      "You should consider upgrading via the 'c:\\Users\\hp\\Desktop\\internship\\genai\\.env_genai\\Scripts\\python.exe -m pip install --upgrade pip' command.\n"
     ]
    }
   ],
   "source": [
    "pip install langchain-google-genai"
   ]
  },
  {
   "cell_type": "code",
   "execution_count": 16,
   "metadata": {},
   "outputs": [],
   "source": [
    "from langchain_google_genai import GoogleGenerativeAIEmbeddings\n",
    "f = open(r\"C:\\Users\\hp\\Desktop\\internship\\genai\\keys\\gemini_key.txt\")\n",
    "api_key = f.read()\n",
    "embedding_model = GoogleGenerativeAIEmbeddings(google_api_key=api_key ,\n",
    "                                               model=\"models/embedding-001\")"
   ]
  },
  {
   "cell_type": "code",
   "execution_count": 17,
   "metadata": {},
   "outputs": [],
   "source": [
    "# Store the chunks in vector store\n",
    "from langchain_community.vectorstores import Chroma\n",
    "\n",
    "# Embed each chunk and load it into the vector store\n",
    "db = Chroma.from_documents(chunks, embedding_model, persist_directory=\"./chroma_db_\")\n",
    "\n",
    "# Persist the database on drive\n",
    "db.persist()"
   ]
  },
  {
   "cell_type": "code",
   "execution_count": 18,
   "metadata": {},
   "outputs": [],
   "source": [
    "# Setting a Connection with the ChromaDB\n",
    "connection = Chroma(persist_directory=\"./chroma_db_\", embedding_function=embedding_model)"
   ]
  },
  {
   "cell_type": "code",
   "execution_count": 19,
   "metadata": {},
   "outputs": [
    {
     "name": "stdout",
     "output_type": "stream",
     "text": [
      "<class 'langchain_core.vectorstores.VectorStoreRetriever'>\n"
     ]
    }
   ],
   "source": [
    "# Converting CHROMA db_connection to Retriever Object\n",
    "retriever = connection.as_retriever(search_kwargs={\"k\": 5})\n",
    "\n",
    "print(type(retriever))"
   ]
  },
  {
   "cell_type": "code",
   "execution_count": 20,
   "metadata": {},
   "outputs": [],
   "source": [
    "from langchain_core.messages import HumanMessage, AIMessage, SystemMessage\n",
    "from langchain_core.prompts import ChatPromptTemplate, SystemMessagePromptTemplate, HumanMessagePromptTemplate"
   ]
  },
  {
   "cell_type": "code",
   "execution_count": 21,
   "metadata": {},
   "outputs": [],
   "source": [
    "chat_template = ChatPromptTemplate.from_messages([\n",
    "    # System Message Prompt Template\n",
    "    SystemMessage(content=\"\"\"You are a Helpful AI Bot. \n",
    "    Your task is to provide assistance based on the context given by the user. \n",
    "    Make sure your answers are relevant and helpful.\"\"\"),\n",
    "    # Human Message Prompt Template\n",
    "    HumanMessagePromptTemplate.from_template(\"\"\"Answer the question based on the given context.\n",
    "    Context:\n",
    "    {context}\n",
    "    \n",
    "    Question: \n",
    "    {question}\n",
    "    \n",
    "    Answer: \"\"\")\n",
    "])"
   ]
  },
  {
   "cell_type": "code",
   "execution_count": null,
   "metadata": {},
   "outputs": [],
   "source": []
  },
  {
   "cell_type": "code",
   "execution_count": 22,
   "metadata": {},
   "outputs": [],
   "source": [
    "from langchain_google_genai import ChatGoogleGenerativeAI\n",
    "\n",
    "chat_model = ChatGoogleGenerativeAI(google_api_key=api_key, \n",
    "                                   model=\"gemini-1.5-pro-latest\")"
   ]
  },
  {
   "cell_type": "code",
   "execution_count": 23,
   "metadata": {},
   "outputs": [],
   "source": [
    "from langchain_core.output_parsers import StrOutputParser\n",
    "\n",
    "output_parser = StrOutputParser()"
   ]
  },
  {
   "cell_type": "code",
   "execution_count": 24,
   "metadata": {},
   "outputs": [],
   "source": [
    "from langchain_core.runnables import RunnablePassthrough\n",
    "\n",
    "def format_docs(docs):\n",
    "    return \"\\n\\n\".join(doc.page_content for doc in docs)\n",
    "\n",
    "\n",
    "rag_chain = (\n",
    "    {\"context\": retriever | format_docs, \"question\": RunnablePassthrough()}\n",
    "    | chat_template\n",
    "    | chat_model\n",
    "    | output_parser\n",
    ")"
   ]
  },
  {
   "cell_type": "code",
   "execution_count": 25,
   "metadata": {},
   "outputs": [
    {
     "data": {
      "text/plain": [
       "'## Gating Score Visualization Explained\\n\\nBased on the context provided, **gating score visualization** refers to the graphical representation of the gating scores (sigmoid(β)) within the compressive memory of the Infini-attention model. This visualization helps analyze the behavior of different attention heads in each layer of the model. \\n\\n**Figure 3** specifically showcases this visualization, revealing two distinct types of attention heads that emerge after training:\\n\\n* **Specialized Heads:** These heads exhibit gating scores near 0 or 1, indicating a strong preference for either utilizing or bypassing the compressive memory.\\n* **Mixer Heads:** These heads have gating scores close to 0.5, suggesting a more balanced approach where they combine information from both the compressive memory and the original input.\\n\\nAnalyzing the distribution and behavior of these heads through gating score visualization provides valuable insights into how the model utilizes its memory and attention mechanisms to process information. \\n'"
      ]
     },
     "execution_count": 25,
     "metadata": {},
     "output_type": "execute_result"
    }
   ],
   "source": [
    "response = rag_chain.invoke(\"what is gating score visualization\")\n",
    "\n",
    "response"
   ]
  },
  {
   "cell_type": "code",
   "execution_count": 26,
   "metadata": {},
   "outputs": [
    {
     "data": {
      "text/markdown": [
       "## Gating Score Visualization Explained\n",
       "\n",
       "Based on the context provided, **gating score visualization** refers to the graphical representation of the gating scores (sigmoid(β)) within the compressive memory of the Infini-attention model. This visualization helps analyze the behavior of different attention heads in each layer of the model. \n",
       "\n",
       "**Figure 3** specifically showcases this visualization, revealing two distinct types of attention heads that emerge after training:\n",
       "\n",
       "* **Specialized Heads:** These heads exhibit gating scores near 0 or 1, indicating a strong preference for either utilizing or bypassing the compressive memory.\n",
       "* **Mixer Heads:** These heads have gating scores close to 0.5, suggesting a more balanced approach where they combine information from both the compressive memory and the original input.\n",
       "\n",
       "Analyzing the distribution and behavior of these heads through gating score visualization provides valuable insights into how the model utilizes its memory and attention mechanisms to process information. \n"
      ],
      "text/plain": [
       "<IPython.core.display.Markdown object>"
      ]
     },
     "execution_count": 26,
     "metadata": {},
     "output_type": "execute_result"
    }
   ],
   "source": [
    "from IPython.display import Markdown as md\n",
    "\n",
    "md(response)"
   ]
  },
  {
   "cell_type": "code",
   "execution_count": 27,
   "metadata": {},
   "outputs": [
    {
     "data": {
      "text/plain": [
       "'## Memory Retrieval and Update in Compressive Memory Systems:\\n\\nBased on the context, it seems we\\'re discussing **compressive memory systems** used in the context of attention mechanisms (like those seen in transformer models). Let\\'s break down memory retrieval and update processes:\\n\\n**Memory Retrieval:**\\n\\n* **Objective:** To efficiently fetch relevant information from the stored memory when processing new data.\\n* **Mechanism:** \\n    * The system utilizes the **attention query states** from the current input sequence as keys to access relevant information within the compressed memory.\\n    * This is similar to how standard attention mechanisms work, but instead of attending over a fixed context window, it attends over the entire compressed memory.\\n    * The system retrieves the most relevant \"value\" representations associated with the query, aiding in understanding the current input based on past information.\\n\\n**Memory Update:**\\n\\n* **Objective:** To efficiently store new information in the compressed memory without unbounded growth in memory size.\\n* **Mechanism:**\\n    * **Compressive memory** maintains a fixed number of parameters, unlike traditional memory that grows with input.\\n    * New information is incorporated by **updating the memory parameters** through an optimization process. \\n    * The objective of this update is to ensure that the new information can be accurately retrieved later when needed. \\n    * This involves finding a compressed representation of the new information that minimizes information loss and maximizes the ability to recover it during retrieval.\\n\\n**Benefits of this approach:**\\n\\n* **Bounded Storage and Computation:** Memory usage and computational cost remain manageable even with long sequences, unlike standard attention where memory grows linearly with sequence length.\\n* **Efficient Retrieval:** The attention-based retrieval mechanism allows for quick and targeted access to relevant past information.\\n* **Leveraging Existing Techniques:** The system can utilize established training methods from attention mechanisms, aiding in stability and performance.\\n\\n**Additional Notes:**\\n\\n* The context mentions the work of Katharopoulos et al. (2020) as a basis for the update and retrieval mechanisms due to its simplicity and effectiveness. \\n* The system described also reuses key and value states from standard attention computations for memory consolidation, making efficient use of computed information. \\n'"
      ]
     },
     "execution_count": 27,
     "metadata": {},
     "output_type": "execute_result"
    }
   ],
   "source": [
    "response = rag_chain.invoke(\"Can you please tell me about meory retival and memory update\")\n",
    "\n",
    "response"
   ]
  },
  {
   "cell_type": "code",
   "execution_count": 28,
   "metadata": {},
   "outputs": [
    {
     "data": {
      "text/markdown": [
       "## Memory Retrieval and Update in Compressive Memory Systems:\n",
       "\n",
       "Based on the context, it seems we're discussing **compressive memory systems** used in the context of attention mechanisms (like those seen in transformer models). Let's break down memory retrieval and update processes:\n",
       "\n",
       "**Memory Retrieval:**\n",
       "\n",
       "* **Objective:** To efficiently fetch relevant information from the stored memory when processing new data.\n",
       "* **Mechanism:** \n",
       "    * The system utilizes the **attention query states** from the current input sequence as keys to access relevant information within the compressed memory.\n",
       "    * This is similar to how standard attention mechanisms work, but instead of attending over a fixed context window, it attends over the entire compressed memory.\n",
       "    * The system retrieves the most relevant \"value\" representations associated with the query, aiding in understanding the current input based on past information.\n",
       "\n",
       "**Memory Update:**\n",
       "\n",
       "* **Objective:** To efficiently store new information in the compressed memory without unbounded growth in memory size.\n",
       "* **Mechanism:**\n",
       "    * **Compressive memory** maintains a fixed number of parameters, unlike traditional memory that grows with input.\n",
       "    * New information is incorporated by **updating the memory parameters** through an optimization process. \n",
       "    * The objective of this update is to ensure that the new information can be accurately retrieved later when needed. \n",
       "    * This involves finding a compressed representation of the new information that minimizes information loss and maximizes the ability to recover it during retrieval.\n",
       "\n",
       "**Benefits of this approach:**\n",
       "\n",
       "* **Bounded Storage and Computation:** Memory usage and computational cost remain manageable even with long sequences, unlike standard attention where memory grows linearly with sequence length.\n",
       "* **Efficient Retrieval:** The attention-based retrieval mechanism allows for quick and targeted access to relevant past information.\n",
       "* **Leveraging Existing Techniques:** The system can utilize established training methods from attention mechanisms, aiding in stability and performance.\n",
       "\n",
       "**Additional Notes:**\n",
       "\n",
       "* The context mentions the work of Katharopoulos et al. (2020) as a basis for the update and retrieval mechanisms due to its simplicity and effectiveness. \n",
       "* The system described also reuses key and value states from standard attention computations for memory consolidation, making efficient use of computed information. \n"
      ],
      "text/plain": [
       "<IPython.core.display.Markdown object>"
      ]
     },
     "execution_count": 28,
     "metadata": {},
     "output_type": "execute_result"
    }
   ],
   "source": [
    "md(response)"
   ]
  }
 ],
 "metadata": {
  "kernelspec": {
   "display_name": ".env_genai",
   "language": "python",
   "name": "python3"
  },
  "language_info": {
   "codemirror_mode": {
    "name": "ipython",
    "version": 3
   },
   "file_extension": ".py",
   "mimetype": "text/x-python",
   "name": "python",
   "nbconvert_exporter": "python",
   "pygments_lexer": "ipython3",
   "version": "3.10.1"
  }
 },
 "nbformat": 4,
 "nbformat_minor": 2
}
